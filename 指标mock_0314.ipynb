{
 "cells": [
  {
   "cell_type": "code",
   "execution_count": 1,
   "metadata": {},
   "outputs": [],
   "source": [
    "import pandas as pd\n",
    "import numpy as np\n",
    "from datetime import *\n",
    "import time"
   ]
  },
  {
   "cell_type": "code",
   "execution_count": 2,
   "metadata": {},
   "outputs": [],
   "source": [
    "path = '/Users/panbingqing/Documents/工作/城市大脑/杭州/卡口/卡口数据/'\n",
    "city_data = pd.read_csv(path + '20180407.csv')\n",
    "#city_data = pd.read_csv(path + '2018-04-22.csv')\n",
    "kakou_info = pd.read_csv('/Users/panbingqing/Documents/工作/城市大脑/杭州/卡口/kakou_area.csv')\n",
    "data = pd.DataFrame()"
   ]
  },
  {
   "cell_type": "code",
   "execution_count": 3,
   "metadata": {},
   "outputs": [],
   "source": [
    "new_data = pd.merge(city_data,kakou_info,on='devc_name')[['dev_id','devc_name','vhc_no','spot_time','loc','spot_direction','in_area']]\n",
    "new_data = new_data.replace('0',np.NaN) #去除0值"
   ]
  },
  {
   "cell_type": "code",
   "execution_count": 111,
   "metadata": {},
   "outputs": [],
   "source": [
    "#求当前时刻的各个交通指标\n",
    "data = pd.DataFrame()\n",
    "time_now = '2018-04-07 00:02:00'\n",
    "time_list = []\n",
    "area1 = ['上城区','江干区','西湖区','拱墅区','下城区','滨江区']\n",
    "area = []\n",
    "#area = ['桐庐县', '临安区', '下城区','富阳区','上城区','拱墅区','西湖区','江干区','滨江区','余杭区','萧山区','建德市']  \n",
    "for i in range(0,720):\n",
    "    #在途量\n",
    "    last_time = str(datetime.strptime(time_now,'%Y-%m-%d %X') - timedelta(hours=1))\n",
    "    way_vhc = new_data[(new_data.spot_time >= last_time) & (new_data.spot_time < time_now)].sort_values(\n",
    "                'spot_time').drop_duplicates('vhc_no',keep='last').reset_index(drop=True).groupby('in_area').count()['vhc_no']  \n",
    "\n",
    "    #交通量\n",
    "    acc_vhc = new_data[new_data.spot_time <= time_now].drop_duplicates('vhc_no').groupby('in_area').vhc_no.count()\n",
    "\n",
    "    #出入城量\n",
    "    last_time1 = str(datetime.strptime(time_now,'%Y-%m-%d %X') - timedelta(minutes=61))\n",
    "    time_now1 = str(datetime.strptime(time_now,'%Y-%m-%d %X') + timedelta(minutes=1))\n",
    "    data_inline1 = new_data[(new_data.spot_time >= last_time1) & (new_data.spot_time < time_now1)].sort_values('spot_time').drop_duplicates('vhc_no',keep='last').reset_index(drop=True)\n",
    "    data_inline2 = new_data[(new_data.spot_time >= last_time) & (new_data.spot_time < time_now)].sort_values('spot_time').drop_duplicates('vhc_no',keep='last').reset_index(drop=True)\n",
    "\n",
    "    data_inline = pd.merge(data_inline1,data_inline2[['vhc_no','in_area']],on = 'vhc_no')\n",
    "    data_inline = data_inline[data_inline.in_area_x != data_inline.in_area_y] #去除在同一个区域的\n",
    "    #筛选入城区域和出城区域\n",
    "    data_inline['start_city'] = data_inline.in_area_x.apply(lambda x : x in area1) #在城内\n",
    "    data_inline['over_city'] = data_inline.in_area_y.apply(lambda x : x not in area1)  #在城外\n",
    "    data_inline_out = data_inline[(data_inline['start_city'] == True) & (data_inline['over_city'] == True)].groupby('over_city').count()['vhc_no'] #出城\n",
    "    data_inline_in = data_inline[(data_inline['start_city'] == False) & (data_inline['over_city'] == False)].groupby('start_city').count()['vhc_no'] #入城\n",
    "\n",
    "    #驻车量\n",
    "    traffic = new_data[new_data.spot_time <= time_now].drop_duplicates('vhc_no') #交通量\n",
    "    way = new_data[(new_data.spot_time >= last_time) & (new_data.spot_time < time_now)].sort_values(\n",
    "                'spot_time').drop_duplicates('vhc_no',keep='last').reset_index(drop=True)\n",
    "\n",
    "    wait_vhc = traffic[~traffic.vhc_no.isin(way.vhc_no)].groupby('in_area').vhc_no.count() #停车量\n",
    "\n",
    "    new = pd.DataFrame(\n",
    "        {'time':time_now,\n",
    "         'acc_vhc':acc_vhc,\n",
    "         'way_vhc':way_vhc,\n",
    "         'in_city':data_inline_in,\n",
    "         'out_city':data_inline_out,\n",
    "         'wait_vhc':wait_vhc \n",
    "    },index=acc_vhc.index)\n",
    "    #area.append(acc_vhc.index)\n",
    "    data = data.append(new)\n",
    "\n",
    "    time_now = str(datetime.strptime(time_now,'%Y-%m-%d %X')+ timedelta(minutes=2))   "
   ]
  },
  {
   "cell_type": "code",
   "execution_count": 110,
   "metadata": {},
   "outputs": [
    {
     "data": {
      "text/plain": [
       "over_city\n",
       "True    106\n",
       "Name: vhc_no, dtype: int64"
      ]
     },
     "execution_count": 110,
     "metadata": {},
     "output_type": "execute_result"
    }
   ],
   "source": [
    "data_inline_out"
   ]
  },
  {
   "cell_type": "code",
   "execution_count": 102,
   "metadata": {},
   "outputs": [],
   "source": [
    "data.to_csv(path + 'data_new_0407.csv')"
   ]
  },
  {
   "cell_type": "code",
   "execution_count": 45,
   "metadata": {},
   "outputs": [
    {
     "data": {
      "text/html": [
       "<div>\n",
       "<style scoped>\n",
       "    .dataframe tbody tr th:only-of-type {\n",
       "        vertical-align: middle;\n",
       "    }\n",
       "\n",
       "    .dataframe tbody tr th {\n",
       "        vertical-align: top;\n",
       "    }\n",
       "\n",
       "    .dataframe thead th {\n",
       "        text-align: right;\n",
       "    }\n",
       "</style>\n",
       "<table border=\"1\" class=\"dataframe\">\n",
       "  <thead>\n",
       "    <tr style=\"text-align: right;\">\n",
       "      <th></th>\n",
       "      <th>time</th>\n",
       "      <th>area</th>\n",
       "      <th>acc_vhc</th>\n",
       "      <th>way_vhc</th>\n",
       "      <th>in_city</th>\n",
       "      <th>out_city</th>\n",
       "      <th>wait_vhc</th>\n",
       "    </tr>\n",
       "  </thead>\n",
       "  <tbody>\n",
       "    <tr>\n",
       "      <th>上城区</th>\n",
       "      <td>2018-04-07 00:02:00</td>\n",
       "      <td>上城区</td>\n",
       "      <td>281</td>\n",
       "      <td>278</td>\n",
       "      <td>NaN</td>\n",
       "      <td>NaN</td>\n",
       "      <td>2.0</td>\n",
       "    </tr>\n",
       "    <tr>\n",
       "      <th>下城区</th>\n",
       "      <td>2018-04-07 00:02:00</td>\n",
       "      <td>下城区</td>\n",
       "      <td>298</td>\n",
       "      <td>297</td>\n",
       "      <td>NaN</td>\n",
       "      <td>NaN</td>\n",
       "      <td>2.0</td>\n",
       "    </tr>\n",
       "    <tr>\n",
       "      <th>余杭区</th>\n",
       "      <td>2018-04-07 00:02:00</td>\n",
       "      <td>余杭区</td>\n",
       "      <td>7</td>\n",
       "      <td>8</td>\n",
       "      <td>NaN</td>\n",
       "      <td>NaN</td>\n",
       "      <td>NaN</td>\n",
       "    </tr>\n",
       "    <tr>\n",
       "      <th>拱墅区</th>\n",
       "      <td>2018-04-07 00:02:00</td>\n",
       "      <td>拱墅区</td>\n",
       "      <td>243</td>\n",
       "      <td>242</td>\n",
       "      <td>NaN</td>\n",
       "      <td>NaN</td>\n",
       "      <td>1.0</td>\n",
       "    </tr>\n",
       "    <tr>\n",
       "      <th>江干区</th>\n",
       "      <td>2018-04-07 00:02:00</td>\n",
       "      <td>江干区</td>\n",
       "      <td>273</td>\n",
       "      <td>270</td>\n",
       "      <td>NaN</td>\n",
       "      <td>NaN</td>\n",
       "      <td>NaN</td>\n",
       "    </tr>\n",
       "    <tr>\n",
       "      <th>滨江区</th>\n",
       "      <td>2018-04-07 00:02:00</td>\n",
       "      <td>滨江区</td>\n",
       "      <td>34</td>\n",
       "      <td>33</td>\n",
       "      <td>NaN</td>\n",
       "      <td>NaN</td>\n",
       "      <td>NaN</td>\n",
       "    </tr>\n",
       "    <tr>\n",
       "      <th>萧山区</th>\n",
       "      <td>2018-04-07 00:02:00</td>\n",
       "      <td>萧山区</td>\n",
       "      <td>86</td>\n",
       "      <td>86</td>\n",
       "      <td>NaN</td>\n",
       "      <td>NaN</td>\n",
       "      <td>NaN</td>\n",
       "    </tr>\n",
       "    <tr>\n",
       "      <th>西湖区</th>\n",
       "      <td>2018-04-07 00:02:00</td>\n",
       "      <td>西湖区</td>\n",
       "      <td>182</td>\n",
       "      <td>185</td>\n",
       "      <td>NaN</td>\n",
       "      <td>NaN</td>\n",
       "      <td>NaN</td>\n",
       "    </tr>\n",
       "  </tbody>\n",
       "</table>\n",
       "</div>"
      ],
      "text/plain": [
       "                    time area  acc_vhc  way_vhc  in_city  out_city  wait_vhc\n",
       "上城区  2018-04-07 00:02:00  上城区      281      278      NaN       NaN       2.0\n",
       "下城区  2018-04-07 00:02:00  下城区      298      297      NaN       NaN       2.0\n",
       "余杭区  2018-04-07 00:02:00  余杭区        7        8      NaN       NaN       NaN\n",
       "拱墅区  2018-04-07 00:02:00  拱墅区      243      242      NaN       NaN       1.0\n",
       "江干区  2018-04-07 00:02:00  江干区      273      270      NaN       NaN       NaN\n",
       "滨江区  2018-04-07 00:02:00  滨江区       34       33      NaN       NaN       NaN\n",
       "萧山区  2018-04-07 00:02:00  萧山区       86       86      NaN       NaN       NaN\n",
       "西湖区  2018-04-07 00:02:00  西湖区      182      185      NaN       NaN       NaN"
      ]
     },
     "execution_count": 45,
     "metadata": {},
     "output_type": "execute_result"
    }
   ],
   "source": [
    "new"
   ]
  },
  {
   "cell_type": "code",
   "execution_count": null,
   "metadata": {},
   "outputs": [],
   "source": []
  },
  {
   "cell_type": "code",
   "execution_count": 43,
   "metadata": {},
   "outputs": [
    {
     "data": {
      "text/html": [
       "<div>\n",
       "<style scoped>\n",
       "    .dataframe tbody tr th:only-of-type {\n",
       "        vertical-align: middle;\n",
       "    }\n",
       "\n",
       "    .dataframe tbody tr th {\n",
       "        vertical-align: top;\n",
       "    }\n",
       "\n",
       "    .dataframe thead th {\n",
       "        text-align: right;\n",
       "    }\n",
       "</style>\n",
       "<table border=\"1\" class=\"dataframe\">\n",
       "  <thead>\n",
       "    <tr style=\"text-align: right;\">\n",
       "      <th></th>\n",
       "    </tr>\n",
       "  </thead>\n",
       "  <tbody>\n",
       "  </tbody>\n",
       "</table>\n",
       "</div>"
      ],
      "text/plain": [
       "Empty DataFrame\n",
       "Columns: []\n",
       "Index: []"
      ]
     },
     "execution_count": 43,
     "metadata": {},
     "output_type": "execute_result"
    }
   ],
   "source": []
  },
  {
   "cell_type": "code",
   "execution_count": null,
   "metadata": {},
   "outputs": [],
   "source": [
    "data.append(new)"
   ]
  },
  {
   "cell_type": "code",
   "execution_count": null,
   "metadata": {},
   "outputs": [],
   "source": [
    "data.append(new,ignore_index=True)"
   ]
  },
  {
   "cell_type": "code",
   "execution_count": null,
   "metadata": {},
   "outputs": [],
   "source": []
  },
  {
   "cell_type": "code",
   "execution_count": null,
   "metadata": {},
   "outputs": [],
   "source": []
  }
 ],
 "metadata": {
  "kernelspec": {
   "display_name": "Python 3",
   "language": "python",
   "name": "python3"
  },
  "language_info": {
   "codemirror_mode": {
    "name": "ipython",
    "version": 3
   },
   "file_extension": ".py",
   "mimetype": "text/x-python",
   "name": "python",
   "nbconvert_exporter": "python",
   "pygments_lexer": "ipython3",
   "version": "3.7.2"
  }
 },
 "nbformat": 4,
 "nbformat_minor": 2
}
