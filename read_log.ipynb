{
 "cells": [
  {
   "cell_type": "code",
   "execution_count": 11,
   "metadata": {},
   "outputs": [],
   "source": [
    "import pandas as pd\n",
    "import re\n",
    "import os"
   ]
  },
  {
   "cell_type": "code",
   "execution_count": 12,
   "metadata": {},
   "outputs": [],
   "source": [
    "def log_read(log_file):\n",
    "    print(f'read {log_file}.')\n",
    "    # 读取日志文件\n",
    "    log_data = pd.read_csv(log_file, sep=r'\\]|\\[', header=None,\n",
    "                           usecols=[1, 3, 5, 6],\n",
    "                           names=['log_time', 'address', 'log_type', 'commit'])\n",
    "    log_data.log_time = pd.to_datetime(\n",
    "        log_data.log_time, format='%Y-%m-%d %H:%M:%S')\n",
    "    return log_data"
   ]
  },
  {
   "cell_type": "code",
   "execution_count": 13,
   "metadata": {},
   "outputs": [],
   "source": [
    "def get_synoses(commit):\n",
    "    # 日志报错内容缩写分类\n",
    "    synoses = commit\n",
    "    if re.search('Stream closed', commit):\n",
    "        synoses = 'Stream closed'\n",
    "    elif re.search('Restart', commit):\n",
    "        synoses = 'Restart'\n",
    "    elif re.search('more than 200ms', commit):\n",
    "        synoses = 'more than 200ms'\n",
    "    elif re.search('Receive disconnect message', commit):\n",
    "        synoses = 'Receive disconnect'\n",
    "    elif re.search('from read get image result is null', commit):\n",
    "        synoses = 'image result is null'\n",
    "    elif re.search('Login device failed error', commit):\n",
    "        synoses = 'Login failed'\n",
    "    elif re.search('Get video from sdk failed', commit):\n",
    "        synoses = 'Get video failed'\n",
    "    elif re.search('convert  yuv data to ipl  failed', commit):\n",
    "        synoses = 'convert yuv data failed'\n",
    "    elif re.search('slow', commit):\n",
    "        synoses = 'slow'\n",
    "    return synoses"
   ]
  },
  {
   "cell_type": "code",
   "execution_count": 14,
   "metadata": {},
   "outputs": [],
   "source": [
    "def get_log_data(log_fold):\n",
    "    log_data = pd.DataFrame()\n",
    "    for file in os.listdir(log_fold):\n",
    "        if file[:9] != 'mylogfile':\n",
    "            continue\n",
    "        file = log_fold + '/' + file\n",
    "        log_data = log_data.append(log_read(file))\n",
    "    log_data.drop_duplicates(inplace=True)\n",
    "    log_data['synopses'] = log_data.commit.apply(get_synoses)\n",
    "    return log_data"
   ]
  },
  {
   "cell_type": "code",
   "execution_count": 15,
   "metadata": {},
   "outputs": [
    {
     "name": "stdout",
     "output_type": "stream",
     "text": [
      "read /Users/panbingqing/Documents/工作/城市大脑/长沙调控/log_file/mylogfile 6.\n"
     ]
    },
    {
     "name": "stderr",
     "output_type": "stream",
     "text": [
      "/anaconda3/lib/python3.7/site-packages/ipykernel_launcher.py:6: ParserWarning: Falling back to the 'python' engine because the 'c' engine does not support regex separators (separators > 1 char and different from '\\s+' are interpreted as regex); you can avoid this warning by specifying engine='python'.\n",
      "  \n"
     ]
    },
    {
     "name": "stdout",
     "output_type": "stream",
     "text": [
      "read /Users/panbingqing/Documents/工作/城市大脑/长沙调控/log_file/mylogfile 7.\n",
      "read /Users/panbingqing/Documents/工作/城市大脑/长沙调控/log_file/mylogfile.\n",
      "read /Users/panbingqing/Documents/工作/城市大脑/长沙调控/log_file/mylogfile 5.\n",
      "read /Users/panbingqing/Documents/工作/城市大脑/长沙调控/log_file/mylogfile 2.\n",
      "read /Users/panbingqing/Documents/工作/城市大脑/长沙调控/log_file/mylogfile 3.\n",
      "read /Users/panbingqing/Documents/工作/城市大脑/长沙调控/log_file/mylogfile 4.\n",
      "drop_duplicates.\n",
      "match address.\n"
     ]
    }
   ],
   "source": [
    "if __name__ == '__main__':\n",
    "    log_data = get_log_data('/Users/panbingqing/Documents/工作/城市大脑/长沙调控/log_file')\n",
    "    print('drop_duplicates.')\n",
    "    log_data.drop_duplicates(inplace=True)\n",
    "\n",
    "    # 根据address匹配对应路口道路\n",
    "    print('match address.')\n",
    "    camera_info = pd.read_csv('/Users/panbingqing/Documents/工作/城市大脑/长沙调控/data_inline/camera_info',\n",
    "                              usecols=['摄像头编号', '摄像头IP地址', '摄像头名称'],\n",
    "                              index_col='摄像头IP地址')\n",
    "    camera_info = camera_info.to_dict(orient='index')\n",
    "\n",
    "    log_data['camera_id'] = log_data.address.apply(\n",
    "        lambda x: camera_info[x]['摄像头编号'])\n",
    "    log_data['road_name'] = log_data.address.apply(\n",
    "        lambda x: camera_info[x]['摄像头名称'])\n",
    "\n",
    "    log_data.to_csv('/Users/panbingqing/Documents/工作/城市大脑/长沙调控/data/log_data.csv', index=False)"
   ]
  },
  {
   "cell_type": "code",
   "execution_count": null,
   "metadata": {},
   "outputs": [],
   "source": []
  }
 ],
 "metadata": {
  "kernelspec": {
   "display_name": "Python 3",
   "language": "python",
   "name": "python3"
  },
  "language_info": {
   "codemirror_mode": {
    "name": "ipython",
    "version": 3
   },
   "file_extension": ".py",
   "mimetype": "text/x-python",
   "name": "python",
   "nbconvert_exporter": "python",
   "pygments_lexer": "ipython3",
   "version": "3.7.2"
  }
 },
 "nbformat": 4,
 "nbformat_minor": 2
}
