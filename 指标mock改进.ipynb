{
 "cells": [
  {
   "cell_type": "code",
   "execution_count": 2,
   "metadata": {},
   "outputs": [],
   "source": [
    "import pandas as pd\n",
    "import random"
   ]
  },
  {
   "cell_type": "code",
   "execution_count": 16,
   "metadata": {},
   "outputs": [],
   "source": [
    "data = pd.read_csv('/Users/panbingqing/Documents/工作/城市大脑/杭州高架AI信号灯/大屏指标数据mock/data_0407new.csv')"
   ]
  },
  {
   "cell_type": "code",
   "execution_count": 23,
   "metadata": {},
   "outputs": [
    {
     "data": {
      "text/plain": [
       "Index(['Unnamed: 0', 'Unnamed: 0.1', 'Unnamed: 0.1.1', 'time_period', '全市交通量',\n",
       "       '全市在途量', '西湖交通量', '下城交通量', '上城交通量', '拱墅交通量', '江干交通量', '富阳交通量', '临安交通量',\n",
       "       '桐庐交通量', '萧山交通量', '余杭交通量', '滨江交通量', '建德交通量', '西湖在途量', '下城在途量', '上城在途量',\n",
       "       '拱墅在途量', '江干在途量', '富阳在途量', '临安在途量', '桐庐在途量', '萧山在途量', '余杭在途量', '滨江在途量',\n",
       "       '建德在途量', '出城量', '入城量', '延误指数', '拥堵指数', '驻车辆', '西湖驻车辆', '下城驻车辆', '上城驻车辆',\n",
       "       '江干驻车辆', '拱墅驻车辆', '富阳驻车辆', '滨江驻车辆', '建德驻车辆', '临安驻车辆', '桐庐驻车辆', '余杭驻车辆',\n",
       "       '萧山驻车辆', '快速路speed', '高速路speed', '主干道speed'],\n",
       "      dtype='object')"
      ]
     },
     "execution_count": 23,
     "metadata": {},
     "output_type": "execute_result"
    }
   ],
   "source": [
    "data.drop(['快速路速度','高速路速度','主干道速度'],axis=1,inplace=True)"
   ]
  },
  {
   "cell_type": "code",
   "execution_count": 32,
   "metadata": {},
   "outputs": [],
   "source": [
    "data['高速路speed'] = data['快速路speed'].apply(lambda x : x*random.uniform(1.2,1.4))\n",
    "data['高速路speed'] = data['高速路speed'].apply(lambda x : round(x,2))"
   ]
  },
  {
   "cell_type": "code",
   "execution_count": 59,
   "metadata": {},
   "outputs": [],
   "source": [
    "data[['快速路speed', '高速路speed', '主干道speed']]\n",
    "data['延误指数'] = data['快速路speed']/data['主干道speed']\n",
    "#data[['time_period','快速路speed', '高速路speed', '主干道speed','拥堵指数','延误指数','延误指数1']].sample(30)"
   ]
  },
  {
   "cell_type": "code",
   "execution_count": 60,
   "metadata": {},
   "outputs": [
    {
     "name": "stderr",
     "output_type": "stream",
     "text": [
      "/anaconda3/lib/python3.7/site-packages/ipykernel_launcher.py:1: SettingWithCopyWarning: \n",
      "A value is trying to be set on a copy of a slice from a DataFrame\n",
      "\n",
      "See the caveats in the documentation: http://pandas.pydata.org/pandas-docs/stable/indexing.html#indexing-view-versus-copy\n",
      "  \"\"\"Entry point for launching an IPython kernel.\n",
      "/anaconda3/lib/python3.7/site-packages/ipykernel_launcher.py:2: SettingWithCopyWarning: \n",
      "A value is trying to be set on a copy of a slice from a DataFrame\n",
      "\n",
      "See the caveats in the documentation: http://pandas.pydata.org/pandas-docs/stable/indexing.html#indexing-view-versus-copy\n",
      "  \n",
      "/anaconda3/lib/python3.7/site-packages/ipykernel_launcher.py:3: SettingWithCopyWarning: \n",
      "A value is trying to be set on a copy of a slice from a DataFrame\n",
      "\n",
      "See the caveats in the documentation: http://pandas.pydata.org/pandas-docs/stable/indexing.html#indexing-view-versus-copy\n",
      "  This is separate from the ipykernel package so we can avoid doing imports until\n",
      "/anaconda3/lib/python3.7/site-packages/ipykernel_launcher.py:4: SettingWithCopyWarning: \n",
      "A value is trying to be set on a copy of a slice from a DataFrame\n",
      "\n",
      "See the caveats in the documentation: http://pandas.pydata.org/pandas-docs/stable/indexing.html#indexing-view-versus-copy\n",
      "  after removing the cwd from sys.path.\n",
      "/anaconda3/lib/python3.7/site-packages/ipykernel_launcher.py:5: SettingWithCopyWarning: \n",
      "A value is trying to be set on a copy of a slice from a DataFrame\n",
      "\n",
      "See the caveats in the documentation: http://pandas.pydata.org/pandas-docs/stable/indexing.html#indexing-view-versus-copy\n",
      "  \"\"\"\n"
     ]
    }
   ],
   "source": [
    "data['拥堵指数'][0:210]=data['延误指数'][0:210]*(random.uniform(1,2))\n",
    "data['拥堵指数'][210:315]=data['延误指数'][210:315]*(random.uniform(4,6))\n",
    "data['拥堵指数'][315:525]=data['延误指数'][315:525]*(random.uniform(2.5,4.5))\n",
    "data['拥堵指数'][525:620]=data['延误指数'][525:620]*(random.uniform(4.5,6.5))\n",
    "data['拥堵指数'][620:720]=data['延误指数'][620:720]*(random.uniform(2,3))"
   ]
  },
  {
   "cell_type": "code",
   "execution_count": 64,
   "metadata": {},
   "outputs": [],
   "source": [
    "data['延误指数'] = data['延误指数'].apply(lambda x : round(x,2))\n",
    "data['拥堵指数'] = data['拥堵指数'].apply(lambda x : round(x,2))"
   ]
  },
  {
   "cell_type": "code",
   "execution_count": 70,
   "metadata": {},
   "outputs": [],
   "source": [
    "#data[['time_period','快速路speed', '高速路speed', '主干道speed','拥堵指数','延误指数']].sample(20)"
   ]
  },
  {
   "cell_type": "code",
   "execution_count": 68,
   "metadata": {},
   "outputs": [],
   "source": [
    "data.to_csv('/Users/panbingqing/Documents/工作/城市大脑/杭州高架AI信号灯/大屏指标数据mock/data_0407_new.csv')"
   ]
  },
  {
   "cell_type": "code",
   "execution_count": 3,
   "metadata": {},
   "outputs": [],
   "source": [
    "data_0407 = pd.read_csv('/Users/panbingqing/Documents/工作/城市大脑/杭州高架AI信号灯/大屏指标数据mock/data.csv')\n",
    "#delay = pd.read_csv('/Users/panbingqing/Documents/工作/城市大脑/杭州高架AI信号灯/大屏指标数据mock/test.csv')\n",
    "#delay.head()"
   ]
  },
  {
   "cell_type": "code",
   "execution_count": 137,
   "metadata": {},
   "outputs": [],
   "source": [
    "data_0407['delay'] = delay.delay_index\n",
    "data_0407[['驻车辆','西湖驻车辆', '下城驻车辆', '上城驻车辆', '江干驻车辆', '拱墅驻车辆', '富阳驻车辆', '滨江驻车辆', '建德驻车辆','临安驻车辆', '桐庐驻车辆', '余杭驻车辆', '萧山驻车辆']]\n",
    "data_0407['驻车辆'] = data_0407['驻车辆']+300000\n",
    "data_0407['下城驻车辆'] = data_0407['下城驻车辆']+50000\n",
    "data_0407['上城驻车辆'] = data_0407['上城驻车辆']+50000\n",
    "data_0407['江干驻车辆'] = data_0407['江干驻车辆']+50000\n",
    "data_0407['拱墅驻车辆'] = data_0407['拱墅驻车辆']+50000\n",
    "data_0407['西湖驻车辆'] = data_0407['西湖驻车辆']+40000\n",
    "data_0407['滨江驻车辆'] = data_0407['滨江驻车辆']+30000\n",
    "data_0407['萧山驻车辆'] = data_0407['萧山驻车辆']+15000\n",
    "data_0407['余杭驻车辆'] = data_0407['余杭驻车辆']+15000"
   ]
  },
  {
   "cell_type": "code",
   "execution_count": 185,
   "metadata": {},
   "outputs": [],
   "source": [
    "#data_0407 = data_0407.set_index('time_period')\n",
    "a=data_0407['拥堵指数']\n",
    "for i in range(len(a)):\n",
    "    if a[i] > 10:\n",
    "        a[i]=1"
   ]
  },
  {
   "cell_type": "code",
   "execution_count": null,
   "metadata": {},
   "outputs": [],
   "source": [
    "data['拥堵指数'][0:210]=data['延误指数'][0:210]*(random.uniform(1,2))\n",
    "data['拥堵指数'][210:315]=data['延误指数'][210:315]*(random.uniform(4,6))\n",
    "data['拥堵指数'][315:525]=data['延误指数'][315:525]*(random.uniform(2.5,4.5))\n",
    "data['拥堵指数'][525:620]=data['延误指数'][525:620]*(random.uniform(4.5,6.5))\n",
    "data['拥堵指数'][620:720]=data['延误指数'][620:720]*(random.uniform(2,3))"
   ]
  },
  {
   "cell_type": "code",
   "execution_count": 186,
   "metadata": {},
   "outputs": [
    {
     "data": {
      "text/plain": [
       "count    720.000000\n",
       "mean       5.389889\n",
       "std        2.648015\n",
       "min        2.140000\n",
       "25%        2.880000\n",
       "50%        4.880000\n",
       "75%        7.812500\n",
       "max       10.000000\n",
       "Name: 拥堵指数, dtype: float64"
      ]
     },
     "execution_count": 186,
     "metadata": {},
     "output_type": "execute_result"
    }
   ],
   "source": [
    "data_0407['拥堵指数'].describe()"
   ]
  },
  {
   "cell_type": "code",
   "execution_count": 187,
   "metadata": {},
   "outputs": [],
   "source": [
    "#data_0407[['time_period','驻车辆','西湖驻车辆', '下城驻车辆', '上城驻车辆', '江干驻车辆', '拱墅驻车辆', '富阳驻车辆', '滨江驻车辆', '建德驻车辆','临安驻车辆', '桐庐驻车辆', '余杭驻车辆', '萧山驻车辆']]"
   ]
  },
  {
   "cell_type": "code",
   "execution_count": 127,
   "metadata": {},
   "outputs": [
    {
     "name": "stderr",
     "output_type": "stream",
     "text": [
      "/anaconda3/lib/python3.7/site-packages/ipykernel_launcher.py:3: SettingWithCopyWarning: \n",
      "A value is trying to be set on a copy of a slice from a DataFrame\n",
      "\n",
      "See the caveats in the documentation: http://pandas.pydata.org/pandas-docs/stable/indexing.html#indexing-view-versus-copy\n",
      "  This is separate from the ipykernel package so we can avoid doing imports until\n",
      "/anaconda3/lib/python3.7/site-packages/ipykernel_launcher.py:4: SettingWithCopyWarning: \n",
      "A value is trying to be set on a copy of a slice from a DataFrame\n",
      "\n",
      "See the caveats in the documentation: http://pandas.pydata.org/pandas-docs/stable/indexing.html#indexing-view-versus-copy\n",
      "  after removing the cwd from sys.path.\n",
      "/anaconda3/lib/python3.7/site-packages/ipykernel_launcher.py:5: SettingWithCopyWarning: \n",
      "A value is trying to be set on a copy of a slice from a DataFrame\n",
      "\n",
      "See the caveats in the documentation: http://pandas.pydata.org/pandas-docs/stable/indexing.html#indexing-view-versus-copy\n",
      "  \"\"\"\n",
      "/anaconda3/lib/python3.7/site-packages/ipykernel_launcher.py:6: SettingWithCopyWarning: \n",
      "A value is trying to be set on a copy of a slice from a DataFrame\n",
      "\n",
      "See the caveats in the documentation: http://pandas.pydata.org/pandas-docs/stable/indexing.html#indexing-view-versus-copy\n",
      "  \n",
      "/anaconda3/lib/python3.7/site-packages/ipykernel_launcher.py:7: SettingWithCopyWarning: \n",
      "A value is trying to be set on a copy of a slice from a DataFrame\n",
      "\n",
      "See the caveats in the documentation: http://pandas.pydata.org/pandas-docs/stable/indexing.html#indexing-view-versus-copy\n",
      "  import sys\n"
     ]
    }
   ],
   "source": [
    "# data_0407[['time_period','快速路speed', '高速路speed', '主干道speed','拥堵指数','延误指数']]\n",
    "# data_0407['延误指数'] = data_0407['高速路speed'] / data_0407['快速路speed']\n",
    "# data_0407['延误指数1'][0:210]=data_0407['延误指数'][0:210]*(random.uniform(0.7,0.8))\n",
    "# data_0407['延误指数1'][210:315]=data_0407['延误指数'][210:315]*(random.uniform(1.6,1.9))\n",
    "# data_0407['延误指数1'][315:525]=data_0407['延误指数'][315:525]*(random.uniform(1.4,1.7))\n",
    "# data_0407['延误指数1'][525:620]=data_0407['延误指数'][525:620]*(random.uniform(1.5,1.8))\n",
    "# data_0407['延误指数1'][620:720]=data_0407['延误指数'][620:720]*(random.uniform(0.9,1.1))"
   ]
  },
  {
   "cell_type": "code",
   "execution_count": 128,
   "metadata": {},
   "outputs": [],
   "source": [
    "data_0407.drop('延误指数',axis=1,inplace=True)"
   ]
  },
  {
   "cell_type": "code",
   "execution_count": 273,
   "metadata": {},
   "outputs": [],
   "source": [
    "data_0407['高速路speed'] = data_0407['快速路speed']*random.uniform(1.55,1.8)\n",
    "data_0407['高速路speed'] = data_0407['高速路speed'].apply(lambda x : round(x,2))\n",
    "data_0407['主干道speed'] = data_0407['快速路speed']*random.uniform(0.55,0.65)\n",
    "data_0407['主干道speed'] = data_0407['主干道speed'].apply(lambda x : round(x,2))"
   ]
  },
  {
   "cell_type": "code",
   "execution_count": 224,
   "metadata": {},
   "outputs": [
    {
     "name": "stderr",
     "output_type": "stream",
     "text": [
      "/anaconda3/lib/python3.7/site-packages/ipykernel_launcher.py:1: SettingWithCopyWarning: \n",
      "A value is trying to be set on a copy of a slice from a DataFrame\n",
      "\n",
      "See the caveats in the documentation: http://pandas.pydata.org/pandas-docs/stable/indexing.html#indexing-view-versus-copy\n",
      "  \"\"\"Entry point for launching an IPython kernel.\n",
      "/anaconda3/lib/python3.7/site-packages/ipykernel_launcher.py:2: SettingWithCopyWarning: \n",
      "A value is trying to be set on a copy of a slice from a DataFrame\n",
      "\n",
      "See the caveats in the documentation: http://pandas.pydata.org/pandas-docs/stable/indexing.html#indexing-view-versus-copy\n",
      "  \n",
      "/anaconda3/lib/python3.7/site-packages/ipykernel_launcher.py:3: SettingWithCopyWarning: \n",
      "A value is trying to be set on a copy of a slice from a DataFrame\n",
      "\n",
      "See the caveats in the documentation: http://pandas.pydata.org/pandas-docs/stable/indexing.html#indexing-view-versus-copy\n",
      "  This is separate from the ipykernel package so we can avoid doing imports until\n",
      "/anaconda3/lib/python3.7/site-packages/ipykernel_launcher.py:4: SettingWithCopyWarning: \n",
      "A value is trying to be set on a copy of a slice from a DataFrame\n",
      "\n",
      "See the caveats in the documentation: http://pandas.pydata.org/pandas-docs/stable/indexing.html#indexing-view-versus-copy\n",
      "  after removing the cwd from sys.path.\n",
      "/anaconda3/lib/python3.7/site-packages/ipykernel_launcher.py:5: SettingWithCopyWarning: \n",
      "A value is trying to be set on a copy of a slice from a DataFrame\n",
      "\n",
      "See the caveats in the documentation: http://pandas.pydata.org/pandas-docs/stable/indexing.html#indexing-view-versus-copy\n",
      "  \"\"\"\n",
      "/anaconda3/lib/python3.7/site-packages/ipykernel_launcher.py:6: SettingWithCopyWarning: \n",
      "A value is trying to be set on a copy of a slice from a DataFrame\n",
      "\n",
      "See the caveats in the documentation: http://pandas.pydata.org/pandas-docs/stable/indexing.html#indexing-view-versus-copy\n",
      "  \n"
     ]
    }
   ],
   "source": [
    "data_0407['拥堵指数'][0:210]=data_0407['delay'][0:210]*(random.uniform(1,2))\n",
    "data_0407['拥堵指数'][210:280]=data_0407['delay'][210:280]*(random.uniform(4,6))\n",
    "data_0407['拥堵指数'][280:315]=data_0407['delay'][280:315]*(random.uniform(3,4))\n",
    "data_0407['拥堵指数'][315:525]=data_0407['delay'][315:525]*(random.uniform(2.5,4.5))\n",
    "data_0407['拥堵指数'][525:620]=data_0407['delay'][525:620]*(random.uniform(4.5,6.5))\n",
    "data_0407['拥堵指数'][620:720]=data_0407['delay'][620:720]*(random.uniform(2,3))"
   ]
  },
  {
   "cell_type": "code",
   "execution_count": 9,
   "metadata": {},
   "outputs": [],
   "source": [
    "data_0407['crowd'] = (1-1/data_0407['delay'])*(1-data_0407['全市在途量']/160000)*100\n",
    "data_0407['crowd'] = data_0407['crowd']/3.3"
   ]
  },
  {
   "cell_type": "code",
   "execution_count": 10,
   "metadata": {},
   "outputs": [
    {
     "name": "stderr",
     "output_type": "stream",
     "text": [
      "/anaconda3/lib/python3.7/site-packages/ipykernel_launcher.py:7: SettingWithCopyWarning: \n",
      "A value is trying to be set on a copy of a slice from a DataFrame\n",
      "\n",
      "See the caveats in the documentation: http://pandas.pydata.org/pandas-docs/stable/indexing.html#indexing-view-versus-copy\n",
      "  import sys\n"
     ]
    }
   ],
   "source": [
    "data_0407['crowd'].describe()\n",
    "a=data_0407['crowd']\n",
    "for i in range(len(a)):\n",
    "    if a[i] > 10:\n",
    "        a[i]=10\n",
    "    elif a[i] <0:\n",
    "        a[i] = 0.532347"
   ]
  },
  {
   "cell_type": "code",
   "execution_count": 11,
   "metadata": {},
   "outputs": [
    {
     "data": {
      "text/plain": [
       "count    720.000000\n",
       "mean       1.977550\n",
       "std        1.503529\n",
       "min        0.006955\n",
       "25%        0.572099\n",
       "50%        1.815558\n",
       "75%        2.868572\n",
       "max        6.096604\n",
       "Name: crowd, dtype: float64"
      ]
     },
     "execution_count": 11,
     "metadata": {},
     "output_type": "execute_result"
    }
   ],
   "source": [
    "data_0407['crowd'].describe()"
   ]
  },
  {
   "cell_type": "code",
   "execution_count": 281,
   "metadata": {},
   "outputs": [],
   "source": [
    "data['高速路speed'] = data['快速路speed'].apply(lambda x : x*random.uniform(1.45,1.6))\n",
    "data['高速路speed'] = data['高速路speed'].apply(lambda x : round(x,2))"
   ]
  },
  {
   "cell_type": "code",
   "execution_count": 12,
   "metadata": {},
   "outputs": [
    {
     "data": {
      "text/html": [
       "<div>\n",
       "<style scoped>\n",
       "    .dataframe tbody tr th:only-of-type {\n",
       "        vertical-align: middle;\n",
       "    }\n",
       "\n",
       "    .dataframe tbody tr th {\n",
       "        vertical-align: top;\n",
       "    }\n",
       "\n",
       "    .dataframe thead th {\n",
       "        text-align: right;\n",
       "    }\n",
       "</style>\n",
       "<table border=\"1\" class=\"dataframe\">\n",
       "  <thead>\n",
       "    <tr style=\"text-align: right;\">\n",
       "      <th></th>\n",
       "      <th>快速路speed</th>\n",
       "      <th>高速路speed</th>\n",
       "      <th>主干道speed</th>\n",
       "      <th>拥堵指数</th>\n",
       "      <th>delay</th>\n",
       "      <th>crowd</th>\n",
       "    </tr>\n",
       "  </thead>\n",
       "  <tbody>\n",
       "    <tr>\n",
       "      <th>603</th>\n",
       "      <td>40.48</td>\n",
       "      <td>71.21</td>\n",
       "      <td>26.29</td>\n",
       "      <td>5.633783</td>\n",
       "      <td>1.127126</td>\n",
       "      <td>2.801790</td>\n",
       "    </tr>\n",
       "    <tr>\n",
       "      <th>529</th>\n",
       "      <td>47.75</td>\n",
       "      <td>83.99</td>\n",
       "      <td>31.01</td>\n",
       "      <td>7.088033</td>\n",
       "      <td>1.418071</td>\n",
       "      <td>2.830353</td>\n",
       "    </tr>\n",
       "    <tr>\n",
       "      <th>252</th>\n",
       "      <td>31.98</td>\n",
       "      <td>56.25</td>\n",
       "      <td>20.77</td>\n",
       "      <td>5.377095</td>\n",
       "      <td>1.114236</td>\n",
       "      <td>1.533339</td>\n",
       "    </tr>\n",
       "    <tr>\n",
       "      <th>369</th>\n",
       "      <td>46.45</td>\n",
       "      <td>81.71</td>\n",
       "      <td>30.17</td>\n",
       "      <td>3.908143</td>\n",
       "      <td>1.333811</td>\n",
       "      <td>4.174034</td>\n",
       "    </tr>\n",
       "    <tr>\n",
       "      <th>329</th>\n",
       "      <td>37.25</td>\n",
       "      <td>65.52</td>\n",
       "      <td>24.19</td>\n",
       "      <td>4.420564</td>\n",
       "      <td>1.508695</td>\n",
       "      <td>5.557968</td>\n",
       "    </tr>\n",
       "    <tr>\n",
       "      <th>106</th>\n",
       "      <td>56.60</td>\n",
       "      <td>99.56</td>\n",
       "      <td>36.76</td>\n",
       "      <td>1.757587</td>\n",
       "      <td>1.014220</td>\n",
       "      <td>0.403535</td>\n",
       "    </tr>\n",
       "    <tr>\n",
       "      <th>1</th>\n",
       "      <td>54.40</td>\n",
       "      <td>95.69</td>\n",
       "      <td>35.33</td>\n",
       "      <td>1.758885</td>\n",
       "      <td>1.014969</td>\n",
       "      <td>0.440609</td>\n",
       "    </tr>\n",
       "    <tr>\n",
       "      <th>377</th>\n",
       "      <td>46.56</td>\n",
       "      <td>81.90</td>\n",
       "      <td>30.24</td>\n",
       "      <td>4.229241</td>\n",
       "      <td>1.443398</td>\n",
       "      <td>4.355764</td>\n",
       "    </tr>\n",
       "    <tr>\n",
       "      <th>373</th>\n",
       "      <td>47.09</td>\n",
       "      <td>82.83</td>\n",
       "      <td>30.58</td>\n",
       "      <td>4.111717</td>\n",
       "      <td>1.403289</td>\n",
       "      <td>4.456314</td>\n",
       "    </tr>\n",
       "    <tr>\n",
       "      <th>225</th>\n",
       "      <td>30.99</td>\n",
       "      <td>54.51</td>\n",
       "      <td>20.13</td>\n",
       "      <td>4.921283</td>\n",
       "      <td>1.019784</td>\n",
       "      <td>0.417325</td>\n",
       "    </tr>\n",
       "    <tr>\n",
       "      <th>635</th>\n",
       "      <td>47.79</td>\n",
       "      <td>84.06</td>\n",
       "      <td>31.04</td>\n",
       "      <td>3.269115</td>\n",
       "      <td>1.178038</td>\n",
       "      <td>2.263304</td>\n",
       "    </tr>\n",
       "    <tr>\n",
       "      <th>463</th>\n",
       "      <td>37.59</td>\n",
       "      <td>66.12</td>\n",
       "      <td>24.41</td>\n",
       "      <td>4.492044</td>\n",
       "      <td>1.533091</td>\n",
       "      <td>3.272612</td>\n",
       "    </tr>\n",
       "    <tr>\n",
       "      <th>497</th>\n",
       "      <td>39.91</td>\n",
       "      <td>70.20</td>\n",
       "      <td>25.92</td>\n",
       "      <td>4.321509</td>\n",
       "      <td>1.474889</td>\n",
       "      <td>2.890344</td>\n",
       "    </tr>\n",
       "    <tr>\n",
       "      <th>372</th>\n",
       "      <td>47.13</td>\n",
       "      <td>82.90</td>\n",
       "      <td>30.61</td>\n",
       "      <td>3.996150</td>\n",
       "      <td>1.363847</td>\n",
       "      <td>4.224419</td>\n",
       "    </tr>\n",
       "    <tr>\n",
       "      <th>609</th>\n",
       "      <td>41.73</td>\n",
       "      <td>73.40</td>\n",
       "      <td>27.10</td>\n",
       "      <td>5.693407</td>\n",
       "      <td>1.139055</td>\n",
       "      <td>2.952832</td>\n",
       "    </tr>\n",
       "    <tr>\n",
       "      <th>199</th>\n",
       "      <td>37.58</td>\n",
       "      <td>66.10</td>\n",
       "      <td>24.41</td>\n",
       "      <td>1.791684</td>\n",
       "      <td>1.033896</td>\n",
       "      <td>0.817682</td>\n",
       "    </tr>\n",
       "    <tr>\n",
       "      <th>671</th>\n",
       "      <td>49.60</td>\n",
       "      <td>87.25</td>\n",
       "      <td>32.21</td>\n",
       "      <td>3.017366</td>\n",
       "      <td>1.087320</td>\n",
       "      <td>1.540698</td>\n",
       "    </tr>\n",
       "    <tr>\n",
       "      <th>237</th>\n",
       "      <td>30.93</td>\n",
       "      <td>54.41</td>\n",
       "      <td>20.09</td>\n",
       "      <td>5.085531</td>\n",
       "      <td>1.053819</td>\n",
       "      <td>0.948763</td>\n",
       "    </tr>\n",
       "    <tr>\n",
       "      <th>13</th>\n",
       "      <td>55.51</td>\n",
       "      <td>97.64</td>\n",
       "      <td>36.05</td>\n",
       "      <td>1.763319</td>\n",
       "      <td>1.017528</td>\n",
       "      <td>0.493452</td>\n",
       "    </tr>\n",
       "    <tr>\n",
       "      <th>558</th>\n",
       "      <td>48.04</td>\n",
       "      <td>84.50</td>\n",
       "      <td>31.20</td>\n",
       "      <td>6.027024</td>\n",
       "      <td>1.205800</td>\n",
       "      <td>1.639902</td>\n",
       "    </tr>\n",
       "  </tbody>\n",
       "</table>\n",
       "</div>"
      ],
      "text/plain": [
       "     快速路speed  高速路speed  主干道speed      拥堵指数     delay     crowd\n",
       "603     40.48     71.21     26.29  5.633783  1.127126  2.801790\n",
       "529     47.75     83.99     31.01  7.088033  1.418071  2.830353\n",
       "252     31.98     56.25     20.77  5.377095  1.114236  1.533339\n",
       "369     46.45     81.71     30.17  3.908143  1.333811  4.174034\n",
       "329     37.25     65.52     24.19  4.420564  1.508695  5.557968\n",
       "106     56.60     99.56     36.76  1.757587  1.014220  0.403535\n",
       "1       54.40     95.69     35.33  1.758885  1.014969  0.440609\n",
       "377     46.56     81.90     30.24  4.229241  1.443398  4.355764\n",
       "373     47.09     82.83     30.58  4.111717  1.403289  4.456314\n",
       "225     30.99     54.51     20.13  4.921283  1.019784  0.417325\n",
       "635     47.79     84.06     31.04  3.269115  1.178038  2.263304\n",
       "463     37.59     66.12     24.41  4.492044  1.533091  3.272612\n",
       "497     39.91     70.20     25.92  4.321509  1.474889  2.890344\n",
       "372     47.13     82.90     30.61  3.996150  1.363847  4.224419\n",
       "609     41.73     73.40     27.10  5.693407  1.139055  2.952832\n",
       "199     37.58     66.10     24.41  1.791684  1.033896  0.817682\n",
       "671     49.60     87.25     32.21  3.017366  1.087320  1.540698\n",
       "237     30.93     54.41     20.09  5.085531  1.053819  0.948763\n",
       "13      55.51     97.64     36.05  1.763319  1.017528  0.493452\n",
       "558     48.04     84.50     31.20  6.027024  1.205800  1.639902"
      ]
     },
     "execution_count": 12,
     "metadata": {},
     "output_type": "execute_result"
    }
   ],
   "source": [
    "data_0407[['快速路speed', '高速路speed', '主干道speed','拥堵指数','delay','crowd']].sample(20)"
   ]
  },
  {
   "cell_type": "code",
   "execution_count": 13,
   "metadata": {},
   "outputs": [],
   "source": [
    "data_0407.to_csv('/Users/panbingqing/Documents/工作/城市大脑/杭州高架AI信号灯/大屏指标数据mock/data_0407_last2.csv')"
   ]
  },
  {
   "cell_type": "code",
   "execution_count": null,
   "metadata": {},
   "outputs": [],
   "source": []
  },
  {
   "cell_type": "code",
   "execution_count": null,
   "metadata": {},
   "outputs": [],
   "source": []
  }
 ],
 "metadata": {
  "kernelspec": {
   "display_name": "Python 3",
   "language": "python",
   "name": "python3"
  },
  "language_info": {
   "codemirror_mode": {
    "name": "ipython",
    "version": 3
   },
   "file_extension": ".py",
   "mimetype": "text/x-python",
   "name": "python",
   "nbconvert_exporter": "python",
   "pygments_lexer": "ipython3",
   "version": "3.7.2"
  }
 },
 "nbformat": 4,
 "nbformat_minor": 2
}
